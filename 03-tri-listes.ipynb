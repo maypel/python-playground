{
 "cells": [
  {
   "cell_type": "markdown",
   "metadata": {},
   "source": [
    "# 3. Tri des listes\n"
   ]
  },
  {
   "cell_type": "code",
   "execution_count": 1,
   "metadata": {},
   "outputs": [
    {
     "name": "stdout",
     "output_type": "stream",
     "text": [
      "13 [5, 4, 8, 5, 8, 10, 1, 3, 6, 6, 2, 3, 9]\n"
     ]
    }
   ],
   "source": [
    "ma_liste = [5, 4, 8, 5, 8, 10, 1, 3, 6, 6, 2, 3, 9]\n",
    "print(len(ma_liste), ma_liste)"
   ]
  },
  {
   "cell_type": "code",
   "execution_count": null,
   "metadata": {},
   "outputs": [],
   "source": []
  },
  {
   "cell_type": "markdown",
   "metadata": {},
   "source": [
    "### Méthode de classe / native ```list.sort```"
   ]
  },
  {
   "cell_type": "code",
   "execution_count": 2,
   "metadata": {},
   "outputs": [
    {
     "name": "stdout",
     "output_type": "stream",
     "text": [
      "Help on method_descriptor:\n",
      "\n",
      "sort(self, /, *, key=None, reverse=False)\n",
      "    Sort the list in ascending order and return None.\n",
      "    \n",
      "    The sort is in-place (i.e. the list itself is modified) and stable (i.e. the\n",
      "    order of two equal elements is maintained).\n",
      "    \n",
      "    If a key function is given, apply it once to each list item and sort them,\n",
      "    ascending or descending, according to their function values.\n",
      "    \n",
      "    The reverse flag can be set to sort in descending order.\n",
      "\n"
     ]
    }
   ],
   "source": [
    "help(list.sort)"
   ]
  },
  {
   "cell_type": "code",
   "execution_count": 3,
   "metadata": {},
   "outputs": [
    {
     "name": "stdout",
     "output_type": "stream",
     "text": [
      "[1, 2, 3, 3, 4, 5, 5, 6, 6, 8, 8, 9, 10]\n"
     ]
    }
   ],
   "source": [
    "ma_liste.sort()\n",
    "print(ma_liste)"
   ]
  },
  {
   "cell_type": "code",
   "execution_count": 4,
   "metadata": {},
   "outputs": [
    {
     "name": "stdout",
     "output_type": "stream",
     "text": [
      "[10, 9, 8, 8, 6, 6, 5, 5, 4, 3, 3, 2, 1]\n"
     ]
    }
   ],
   "source": [
    "ma_liste.sort(reverse=True)\n",
    "print(ma_liste)"
   ]
  },
  {
   "cell_type": "code",
   "execution_count": null,
   "metadata": {},
   "outputs": [],
   "source": []
  },
  {
   "cell_type": "markdown",
   "metadata": {},
   "source": [
    "### Méthode ```sorted```"
   ]
  },
  {
   "cell_type": "code",
   "execution_count": 5,
   "metadata": {},
   "outputs": [
    {
     "name": "stdout",
     "output_type": "stream",
     "text": [
      "Help on built-in function sorted in module builtins:\n",
      "\n",
      "sorted(iterable, /, *, key=None, reverse=False)\n",
      "    Return a new list containing all items from the iterable in ascending order.\n",
      "    \n",
      "    A custom key function can be supplied to customize the sort order, and the\n",
      "    reverse flag can be set to request the result in descending order.\n",
      "\n"
     ]
    }
   ],
   "source": [
    "help(sorted)"
   ]
  },
  {
   "cell_type": "code",
   "execution_count": 6,
   "metadata": {},
   "outputs": [
    {
     "data": {
      "text/plain": [
       "[1, 2, 3, 3, 4, 5, 5, 6, 6, 8, 8, 9, 10]"
      ]
     },
     "execution_count": 6,
     "metadata": {},
     "output_type": "execute_result"
    }
   ],
   "source": [
    "ma_liste = [5, 4, 8, 5, 8, 10, 1, 3, 6, 6, 2, 3, 9]\n",
    "sorted(ma_liste)"
   ]
  },
  {
   "cell_type": "code",
   "execution_count": 7,
   "metadata": {},
   "outputs": [
    {
     "data": {
      "text/plain": [
       "[10, 9, 8, 8, 6, 6, 5, 5, 4, 3, 3, 2, 1]"
      ]
     },
     "execution_count": 7,
     "metadata": {},
     "output_type": "execute_result"
    }
   ],
   "source": [
    "sorted(ma_liste, reverse=True)"
   ]
  },
  {
   "cell_type": "code",
   "execution_count": null,
   "metadata": {},
   "outputs": [],
   "source": []
  },
  {
   "cell_type": "markdown",
   "metadata": {},
   "source": [
    "## Exercices"
   ]
  },
  {
   "cell_type": "code",
   "execution_count": null,
   "metadata": {},
   "outputs": [],
   "source": [
    "ma_liste = [5, 4, 8, 5, 8, 10, 1, 3, 6, 6, 2, 3, 9]"
   ]
  },
  {
   "cell_type": "code",
   "execution_count": null,
   "metadata": {},
   "outputs": [],
   "source": []
  },
  {
   "cell_type": "code",
   "execution_count": 15,
   "metadata": {},
   "outputs": [],
   "source": [
    "# FYI: c'est l'implémentation\n",
    "def calculer_somme(L, demo = False):\n",
    "    somme = 0\n",
    "    for i in range(len(L)):\n",
    "        somme += L[i]\n",
    "        if demo:\n",
    "            print(L[i], somme)\n",
    "    return somme"
   ]
  },
  {
   "cell_type": "code",
   "execution_count": 13,
   "metadata": {},
   "outputs": [
    {
     "name": "stdout",
     "output_type": "stream",
     "text": [
      "5 5\n",
      "4 9\n",
      "8 17\n",
      "5 22\n",
      "8 30\n",
      "10 40\n",
      "1 41\n",
      "3 44\n",
      "6 50\n",
      "6 56\n",
      "2 58\n",
      "3 61\n",
      "9 70\n"
     ]
    },
    {
     "data": {
      "text/plain": [
       "70"
      ]
     },
     "execution_count": 13,
     "metadata": {},
     "output_type": "execute_result"
    }
   ],
   "source": [
    "ma_liste = [5, 4, 8, 5, 8, 10, 1, 3, 6, 6, 2, 3, 9]\n",
    "calculer_somme(ma_liste)"
   ]
  },
  {
   "cell_type": "code",
   "execution_count": 14,
   "metadata": {},
   "outputs": [
    {
     "name": "stdout",
     "output_type": "stream",
     "text": [
      "5 5\n",
      "4 9\n",
      "8 17\n",
      "5 22\n",
      "8 30\n",
      "10 40\n",
      "1 41\n",
      "3 44\n",
      "6 50\n",
      "6 56\n",
      "2 58\n",
      "3 61\n",
      "9 70\n"
     ]
    },
    {
     "data": {
      "text/plain": [
       "70"
      ]
     },
     "execution_count": 14,
     "metadata": {},
     "output_type": "execute_result"
    }
   ],
   "source": [
    "ma_liste = [5, 4, 8, 5, 8, 10, 1, 3, 6, 6, 2, 3, 9]\n",
    "calculer_somme(ma_liste, demo = True)"
   ]
  },
  {
   "cell_type": "markdown",
   "metadata": {},
   "source": [
    "### Tri par sélection (min)"
   ]
  },
  {
   "cell_type": "markdown",
   "metadata": {},
   "source": [
    "> **Démo avec jeux de cartes**"
   ]
  },
  {
   "cell_type": "markdown",
   "metadata": {},
   "source": [
    "TO DO: Décrivez l'algorithme de tri par sélection en pseudo-code:  \n",
    "\n",
    "-- créer une nouvelle liste\n",
    "\n",
    "-- la fonction min me donne la valeur la plus faible\n",
    "\n",
    "-- l'affecter à ma nouvelle liste\n",
    "\n",
    "-- recommencer l'opération jusqu`à ce que toute mes valeurs soient dans ma nouvelle liste\n",
    "\n",
    "-- afficher ma nouvelle liste\n",
    "  \n",
    "  \n",
    "--"
   ]
  },
  {
   "cell_type": "code",
   "execution_count": 63,
   "metadata": {},
   "outputs": [],
   "source": [
    "# Implémentation du tri par sélection (utilisant fonction min())\n",
    "def tri_selection(L, demo = False):\n",
    "    \n",
    "    nouvelle_liste = []\n",
    "    \n",
    "    for i in range(len(L)):\n",
    "        print(\"affiche l'index:\",i)\n",
    "        vmin = min(L)\n",
    "        print(\"c'est la valeur min:\", vmin)\n",
    "        nouvelle_liste.append(vmin)\n",
    "        L.remove(vmin)\n",
    "        print(\"c'est mon ancienne liste:\", ma_liste)\n",
    "            \n",
    "    print(\"c'est ma nouvelle liste\", nouvelle_liste)   "
   ]
  },
  {
   "cell_type": "code",
   "execution_count": 64,
   "metadata": {},
   "outputs": [
    {
     "name": "stdout",
     "output_type": "stream",
     "text": [
      "affiche l'index: 0\n",
      "c'est la valeur min: 1\n",
      "c'est mon ancienne liste: [5, 4, 8, 5, 8, 10, 3, 6, 6, 2, 3, 9]\n",
      "affiche l'index: 1\n",
      "c'est la valeur min: 2\n",
      "c'est mon ancienne liste: [5, 4, 8, 5, 8, 10, 3, 6, 6, 3, 9]\n",
      "affiche l'index: 2\n",
      "c'est la valeur min: 3\n",
      "c'est mon ancienne liste: [5, 4, 8, 5, 8, 10, 6, 6, 3, 9]\n",
      "affiche l'index: 3\n",
      "c'est la valeur min: 3\n",
      "c'est mon ancienne liste: [5, 4, 8, 5, 8, 10, 6, 6, 9]\n",
      "affiche l'index: 4\n",
      "c'est la valeur min: 4\n",
      "c'est mon ancienne liste: [5, 8, 5, 8, 10, 6, 6, 9]\n",
      "affiche l'index: 5\n",
      "c'est la valeur min: 5\n",
      "c'est mon ancienne liste: [8, 5, 8, 10, 6, 6, 9]\n",
      "affiche l'index: 6\n",
      "c'est la valeur min: 5\n",
      "c'est mon ancienne liste: [8, 8, 10, 6, 6, 9]\n",
      "affiche l'index: 7\n",
      "c'est la valeur min: 6\n",
      "c'est mon ancienne liste: [8, 8, 10, 6, 9]\n",
      "affiche l'index: 8\n",
      "c'est la valeur min: 6\n",
      "c'est mon ancienne liste: [8, 8, 10, 9]\n",
      "affiche l'index: 9\n",
      "c'est la valeur min: 8\n",
      "c'est mon ancienne liste: [8, 10, 9]\n",
      "affiche l'index: 10\n",
      "c'est la valeur min: 8\n",
      "c'est mon ancienne liste: [10, 9]\n",
      "affiche l'index: 11\n",
      "c'est la valeur min: 9\n",
      "c'est mon ancienne liste: [10]\n",
      "affiche l'index: 12\n",
      "c'est la valeur min: 10\n",
      "c'est mon ancienne liste: []\n",
      "c'est ma nouvelle liste [1, 2, 3, 3, 4, 5, 5, 6, 6, 8, 8, 9, 10]\n"
     ]
    }
   ],
   "source": [
    "ma_liste = [5, 4, 8, 5, 8, 10, 1, 3, 6, 6, 2, 3, 9]\n",
    "tri_selection(ma_liste, True)"
   ]
  },
  {
   "cell_type": "code",
   "execution_count": 44,
   "metadata": {},
   "outputs": [
    {
     "data": {
      "text/plain": [
       "[5, 4, 8, 5, 8, 10, 1, 3, 6, 6, 2, 3, 9]"
      ]
     },
     "execution_count": 44,
     "metadata": {},
     "output_type": "execute_result"
    }
   ],
   "source": [
    "ma_liste"
   ]
  },
  {
   "cell_type": "code",
   "execution_count": 66,
   "metadata": {},
   "outputs": [],
   "source": [
    "def tri_selection(L, demo = False):\n",
    "    \n",
    "    nouvelle_liste = []\n",
    "    \n",
    "    for i in L:\n",
    "        vmin = min(L)\n",
    "        nouvelle_liste.append(vmin)\n",
    "        L.remove(vmin)\n",
    "                    \n",
    "    print(\"c'est ma nouvelle liste\", nouvelle_liste)   "
   ]
  },
  {
   "cell_type": "code",
   "execution_count": 67,
   "metadata": {},
   "outputs": [
    {
     "name": "stdout",
     "output_type": "stream",
     "text": [
      "c'est ma nouvelle liste [1, 2, 3, 3, 4, 5, 5]\n"
     ]
    }
   ],
   "source": [
    "ma_liste = [5, 4, 8, 5, 8, 10, 1, 3, 6, 6, 2, 3, 9]\n",
    "tri_selection(ma_liste, True)"
   ]
  },
  {
   "cell_type": "code",
   "execution_count": null,
   "metadata": {
    "jupyter": {
     "source_hidden": true
    }
   },
   "outputs": [],
   "source": [
    "# Implémentation du tri par sélection (avec ré-implémentation d'une fonction min personnelle)\n",
    "def tri_selection_complet(L, demo = False):\n",
    "    # trouver la valeur min\n",
    "    "
   ]
  },
  {
   "cell_type": "code",
   "execution_count": null,
   "metadata": {},
   "outputs": [],
   "source": [
    "ma_liste = [5, 4, 8, 5, 8, 10, 1, 3, 6, 6, 2, 3, 9]\n",
    "tri_selection_complet(ma_liste, True)"
   ]
  },
  {
   "cell_type": "code",
   "execution_count": null,
   "metadata": {},
   "outputs": [],
   "source": []
  },
  {
   "cell_type": "markdown",
   "metadata": {},
   "source": [
    "---"
   ]
  },
  {
   "cell_type": "markdown",
   "metadata": {},
   "source": [
    "### Tri à bulles (ou tri par propagation)"
   ]
  },
  {
   "cell_type": "markdown",
   "metadata": {},
   "source": [
    "> **Démo avec jeux de cartes**"
   ]
  },
  {
   "cell_type": "markdown",
   "metadata": {},
   "source": [
    "Autre illustration (Source: [wikipedia](https://en.wikipedia.org/wiki/Bubble_sort))  "
   ]
  },
  {
   "cell_type": "markdown",
   "metadata": {},
   "source": [
    "![Tri à Bulles](./img/bubble-sort.gif)  \n"
   ]
  },
  {
   "cell_type": "markdown",
   "metadata": {},
   "source": [
    "TO DO: Décrivez l'algorithme du tri à bulles en pseudo-code:  \n",
    "\n",
    "  \n",
    "  \n",
    "  \n",
    "--"
   ]
  },
  {
   "cell_type": "code",
   "execution_count": null,
   "metadata": {},
   "outputs": [],
   "source": [
    "# Implémentation\n",
    "def tri_bulles(L, demo = False):\n",
    "    pass"
   ]
  },
  {
   "cell_type": "code",
   "execution_count": null,
   "metadata": {},
   "outputs": [],
   "source": [
    "ma_liste = [5, 4, 8, 5, 8, 10, 1, 3, 6, 6, 2, 3, 9]\n",
    "tri_bulles(ma_liste, demo = True)"
   ]
  },
  {
   "cell_type": "code",
   "execution_count": null,
   "metadata": {},
   "outputs": [],
   "source": []
  },
  {
   "cell_type": "code",
   "execution_count": null,
   "metadata": {},
   "outputs": [],
   "source": [
    "pire_cas = [i for i in range(10, 0, -1)]\n",
    "print(len(pire_cas), pire_cas)"
   ]
  },
  {
   "cell_type": "code",
   "execution_count": null,
   "metadata": {},
   "outputs": [],
   "source": [
    "tri_bulles(pire_cas, True)"
   ]
  },
  {
   "cell_type": "code",
   "execution_count": null,
   "metadata": {},
   "outputs": [],
   "source": [
    "# Le nb d'itérations dans ce cas est: n * (n + 1) / 2)\n",
    "9 + 8 + 7 + 6 + 5 + 4 + 3 + 2 + 1"
   ]
  },
  {
   "cell_type": "code",
   "execution_count": null,
   "metadata": {},
   "outputs": [],
   "source": [
    "# Ce qui est égal à n * (n + 1) / 2  avec n = 9\n",
    "9 * 10 // 2"
   ]
  },
  {
   "cell_type": "code",
   "execution_count": null,
   "metadata": {},
   "outputs": [],
   "source": []
  },
  {
   "cell_type": "markdown",
   "metadata": {},
   "source": [
    "---\n",
    "## Application à une liste de chaînes de caractère"
   ]
  },
  {
   "cell_type": "markdown",
   "metadata": {},
   "source": [
    "**Rappel: Comparaison de chaînes de caractères**"
   ]
  },
  {
   "cell_type": "code",
   "execution_count": null,
   "metadata": {},
   "outputs": [],
   "source": [
    "\"Abc\" > \"cdf\""
   ]
  },
  {
   "cell_type": "code",
   "execution_count": null,
   "metadata": {},
   "outputs": [],
   "source": [
    "\"A\" > \"a\""
   ]
  },
  {
   "cell_type": "code",
   "execution_count": null,
   "metadata": {},
   "outputs": [],
   "source": [
    "\"Vincent\" > \"Christophe\""
   ]
  },
  {
   "cell_type": "code",
   "execution_count": null,
   "metadata": {},
   "outputs": [],
   "source": [
    "\"Vincent\" > \"christophe\""
   ]
  },
  {
   "cell_type": "code",
   "execution_count": null,
   "metadata": {},
   "outputs": [],
   "source": []
  },
  {
   "cell_type": "code",
   "execution_count": null,
   "metadata": {},
   "outputs": [],
   "source": [
    "promo = ['Théo', 'Philippe', 'Lamia', 'Marvin', \n",
    "         'Maëlle', 'Yoann', 'Jonathan', 'Corentin', \n",
    "         'Joris', 'Matthias', 'Alicia', 'Izak', \n",
    "         'Mayel', 'Corentin', 'Jordan', 'Abire' \n",
    "]"
   ]
  },
  {
   "cell_type": "code",
   "execution_count": null,
   "metadata": {},
   "outputs": [],
   "source": [
    "sorted(promo)"
   ]
  },
  {
   "cell_type": "code",
   "execution_count": null,
   "metadata": {},
   "outputs": [],
   "source": [
    "tri_bulles(promo, True)"
   ]
  },
  {
   "cell_type": "code",
   "execution_count": null,
   "metadata": {},
   "outputs": [],
   "source": []
  },
  {
   "cell_type": "markdown",
   "metadata": {},
   "source": [
    "---\n",
    "## Pour aller plus loin\n",
    "\n",
    "Voir \n",
    "- [Complexité algorithmique en temps](https://fr.wikipedia.org/wiki/Complexit%C3%A9_en_temps)\n",
    "- [Algorithme de tri sur Wikipedia](https://fr.wikipedia.org/wiki/Algorithme_de_tri)"
   ]
  },
  {
   "cell_type": "code",
   "execution_count": null,
   "metadata": {},
   "outputs": [],
   "source": []
  },
  {
   "cell_type": "markdown",
   "metadata": {},
   "source": [
    "### Tri à bulles optimisé\n",
    "TO DO: Imaginer ou rechercher sur internet une possibilité d'améliorer le tri à bulles"
   ]
  },
  {
   "cell_type": "code",
   "execution_count": null,
   "metadata": {},
   "outputs": [],
   "source": [
    "def tri_bulles_optimise(L):\n",
    "    pass"
   ]
  },
  {
   "cell_type": "code",
   "execution_count": null,
   "metadata": {},
   "outputs": [],
   "source": [
    "ma_liste = [5, 4, 8, 5, 8, 10, 1, 3, 6, 6, 2, 3, 9]\n",
    "tri_bulles_optimise(ma_liste)"
   ]
  },
  {
   "cell_type": "code",
   "execution_count": null,
   "metadata": {},
   "outputs": [],
   "source": []
  },
  {
   "cell_type": "markdown",
   "metadata": {},
   "source": [
    "### Tri fusion (merge sort)"
   ]
  },
  {
   "cell_type": "code",
   "execution_count": null,
   "metadata": {},
   "outputs": [],
   "source": [
    "def tri_fusion(L):\n",
    "    pass"
   ]
  },
  {
   "cell_type": "code",
   "execution_count": null,
   "metadata": {},
   "outputs": [],
   "source": [
    "ma_liste = [5, 4, 8, 5, 8, 10, 1, 3, 6, 6, 2, 3, 9]\n",
    "tri_fusion(ma_liste)"
   ]
  },
  {
   "cell_type": "code",
   "execution_count": null,
   "metadata": {},
   "outputs": [],
   "source": []
  },
  {
   "cell_type": "code",
   "execution_count": null,
   "metadata": {},
   "outputs": [],
   "source": []
  }
 ],
 "metadata": {
  "kernelspec": {
   "display_name": "Python 3",
   "language": "python",
   "name": "python3"
  },
  "language_info": {
   "codemirror_mode": {
    "name": "ipython",
    "version": 3
   },
   "file_extension": ".py",
   "mimetype": "text/x-python",
   "name": "python",
   "nbconvert_exporter": "python",
   "pygments_lexer": "ipython3",
   "version": "3.8.6"
  }
 },
 "nbformat": 4,
 "nbformat_minor": 4
}
